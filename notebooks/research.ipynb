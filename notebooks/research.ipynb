{
 "cells": [
  {
   "cell_type": "code",
   "execution_count": 1,
   "id": "6898950d",
   "metadata": {},
   "outputs": [],
   "source": [
    "import logging\n",
    "import os\n",
    "from datetime import datetime"
   ]
  },
  {
   "cell_type": "code",
   "execution_count": 2,
   "id": "9fc67b04",
   "metadata": {},
   "outputs": [
    {
     "data": {
      "text/plain": [
       "datetime.datetime(2025, 8, 14, 11, 30, 54, 332649)"
      ]
     },
     "execution_count": 2,
     "metadata": {},
     "output_type": "execute_result"
    }
   ],
   "source": [
    "datetime.now()"
   ]
  },
  {
   "cell_type": "code",
   "execution_count": 3,
   "id": "6aaa0fa1",
   "metadata": {},
   "outputs": [
    {
     "data": {
      "text/plain": [
       "'08_14_2025_11_30_54.log'"
      ]
     },
     "execution_count": 3,
     "metadata": {},
     "output_type": "execute_result"
    }
   ],
   "source": [
    "f\"{datetime.now().strftime('%m_%d_%Y_%H_%M_%S')}.log\""
   ]
  },
  {
   "cell_type": "code",
   "execution_count": 4,
   "id": "694d0d0d",
   "metadata": {},
   "outputs": [
    {
     "data": {
      "text/plain": [
       "'d:\\\\ineuronAll\\\\practical\\\\MLOPS\\\\Mlops_DiamondPricePrediction_AWS\\\\notebooks\\\\logs'"
      ]
     },
     "execution_count": 4,
     "metadata": {},
     "output_type": "execute_result"
    }
   ],
   "source": [
    "os.path.join(os.getcwd(),\"logs\")"
   ]
  },
  {
   "cell_type": "code",
   "execution_count": 5,
   "id": "02774591",
   "metadata": {},
   "outputs": [
    {
     "data": {
      "text/plain": [
       "'artifacts\\\\raw.csv'"
      ]
     },
     "execution_count": 5,
     "metadata": {},
     "output_type": "execute_result"
    }
   ],
   "source": [
    "os.path.join(\"artifacts\",\"raw.csv\")"
   ]
  },
  {
   "cell_type": "code",
   "execution_count": 6,
   "id": "ee31fc1f",
   "metadata": {},
   "outputs": [],
   "source": [
    "os.makedirs(os.path.dirname(os.path.join(\"artifacts\",\"raw.csv\")),exist_ok=True)"
   ]
  },
  {
   "cell_type": "code",
   "execution_count": 7,
   "id": "9317f9c1",
   "metadata": {},
   "outputs": [],
   "source": [
    "def initiate_data_ingestion(self):\n",
    "        logging.info(\"data ingestion started\")\n",
    "        \n",
    "        try:\n",
    "            data=pd.read_csv(Path(os.path.join(\"notebooks/data\",\"gemstone.csv\")))\n",
    "            logging.info(\" i have read dataset as a df\")\n",
    "            \n",
    "            \n",
    "            os.makedirs(os.path.dirname(os.path.join(self.ingestion_config.raw_data_path)),exist_ok=True)\n",
    "            data.to_csv(self.ingestion_config.raw_data_path,index=False)\n",
    "            logging.info(\" i have saved the raw dataset in artifact folder\")\n",
    "            \n",
    "            logging.info(\"here i have performed train test split\")\n",
    "            \n",
    "            train_data,test_data=train_test_split(data,test_size=0.25)\n",
    "            logging.info(\"train test split completed\")\n",
    "            \n",
    "            train_data.to_csv(self.ingestion_config.train_data_path,index=False)\n",
    "            test_data.to_csv(self.ingestion_config.test_data_path,index=False)\n",
    "            \n",
    "            logging.info(\"data ingestion part completed\")\n",
    "            \n",
    "            return (\n",
    "                 \n",
    "                \n",
    "                self.ingestion_config.train_data_path,\n",
    "                self.ingestion_config.test_data_path\n",
    "            )\n",
    "            \n",
    "            \n",
    "        except Exception as e:\n",
    "           logging.info(\"exception during occured at data ingestion stage\")\n",
    "           raise customexception(e,sys)\n",
    "    "
   ]
  },
  {
   "cell_type": "code",
   "execution_count": 8,
   "id": "622b499b",
   "metadata": {},
   "outputs": [
    {
     "ename": "ImportError",
     "evalue": "cannot import name 'DataIngestion' from 'src.DimondPricePrediction.components.data_ingestion' (d:\\ineuronall\\practical\\mlops\\mlops_diamondpriceprediction_aws\\src\\DimondPricePrediction\\components\\data_ingestion.py)",
     "output_type": "error",
     "traceback": [
      "\u001b[31m---------------------------------------------------------------------------\u001b[39m",
      "\u001b[31mImportError\u001b[39m                               Traceback (most recent call last)",
      "\u001b[36mCell\u001b[39m\u001b[36m \u001b[39m\u001b[32mIn[8]\u001b[39m\u001b[32m, line 1\u001b[39m\n\u001b[32m----> \u001b[39m\u001b[32m1\u001b[39m \u001b[38;5;28;01mfrom\u001b[39;00m\u001b[38;5;250m \u001b[39m\u001b[34;01msrc\u001b[39;00m\u001b[34;01m.\u001b[39;00m\u001b[34;01mDimondPricePrediction\u001b[39;00m\u001b[34;01m.\u001b[39;00m\u001b[34;01mcomponents\u001b[39;00m\u001b[34;01m.\u001b[39;00m\u001b[34;01mdata_ingestion\u001b[39;00m\u001b[38;5;250m \u001b[39m\u001b[38;5;28;01mimport\u001b[39;00m DataIngestion\n\u001b[32m      3\u001b[39m \u001b[38;5;28;01mfrom\u001b[39;00m\u001b[38;5;250m \u001b[39m\u001b[34;01msrc\u001b[39;00m\u001b[34;01m.\u001b[39;00m\u001b[34;01mDimondPricePrediction\u001b[39;00m\u001b[34;01m.\u001b[39;00m\u001b[34;01mcomponents\u001b[39;00m\u001b[34;01m.\u001b[39;00m\u001b[34;01mdata_transformation\u001b[39;00m\u001b[38;5;250m \u001b[39m\u001b[38;5;28;01mimport\u001b[39;00m DataTransformation\n\u001b[32m      5\u001b[39m \u001b[38;5;28;01mfrom\u001b[39;00m\u001b[38;5;250m \u001b[39m\u001b[34;01msrc\u001b[39;00m\u001b[34;01m.\u001b[39;00m\u001b[34;01mDimondPricePrediction\u001b[39;00m\u001b[34;01m.\u001b[39;00m\u001b[34;01mcomponents\u001b[39;00m\u001b[34;01m.\u001b[39;00m\u001b[34;01mmodel_trainer\u001b[39;00m\u001b[38;5;250m \u001b[39m\u001b[38;5;28;01mimport\u001b[39;00m ModelTrainer\n",
      "\u001b[31mImportError\u001b[39m: cannot import name 'DataIngestion' from 'src.DimondPricePrediction.components.data_ingestion' (d:\\ineuronall\\practical\\mlops\\mlops_diamondpriceprediction_aws\\src\\DimondPricePrediction\\components\\data_ingestion.py)"
     ]
    }
   ],
   "source": [
    "from src.DimondPricePrediction.components.data_ingestion import DataIngestion\n",
    "\n",
    "from src.DimondPricePrediction.components.data_transformation import DataTransformation\n",
    "\n",
    "from src.DimondPricePrediction.components.model_trainer import ModelTrainer\n",
    "import os\n",
    "import sys\n",
    "from src.DimondPricePrediction.logger import logging\n",
    "from src.DimondPricePrediction.exception import customexception\n",
    "import pandas as pd\n",
    "class TrainingPipeline:\n",
    "    def start_data_ingestion(self):\n",
    "        try:\n",
    "            data_ingestion=DataIngestion()\n",
    "            train_data_path,test_data_path=data_ingestion.initiate_data_ingestion()\n",
    "            return train_data_path,test_data_path\n",
    "        except Exception as e:\n",
    "            raise customexception(e,sys)\n",
    "        \n",
    "    def start_data_transformation(self,train_data_path,test_data_path):\n",
    "        \n",
    "        try:\n",
    "            data_transformation = DataTransformation()\n",
    "            train_arr,test_arr=data_transformation.initialize_data_transformation(train_data_path,test_data_path)\n",
    "            return train_arr,test_arr\n",
    "        except Exception as e:\n",
    "            raise customexception(e,sys)\n",
    "    \n",
    "    def start_model_training(self,train_arr,test_arr):\n",
    "        try:\n",
    "            model_trainer=ModelTrainer()\n",
    "            model_trainer.initate_model_training(train_arr,test_arr)\n",
    "        except Exception as e:\n",
    "            raise customexception(e,sys)\n",
    "                \n",
    "    def start_trainig(self):\n",
    "        try:\n",
    "            train_data_path,test_data_path=self.start_data_ingestion()\n",
    "            train_arr,test_arr=self.start_data_transformation(train_data_path,test_data_path)\n",
    "            self.start_model_training(train_arr,test_arr)\n",
    "        except Exception as e:\n",
    "            raise customexception(e,sys)"
   ]
  },
  {
   "cell_type": "code",
   "execution_count": null,
   "id": "d610f5a1",
   "metadata": {},
   "outputs": [],
   "source": []
  }
 ],
 "metadata": {
  "kernelspec": {
   "display_name": "Python 3",
   "language": "python",
   "name": "python3"
  },
  "language_info": {
   "codemirror_mode": {
    "name": "ipython",
    "version": 3
   },
   "file_extension": ".py",
   "mimetype": "text/x-python",
   "name": "python",
   "nbconvert_exporter": "python",
   "pygments_lexer": "ipython3",
   "version": "3.12.11"
  }
 },
 "nbformat": 4,
 "nbformat_minor": 5
}
